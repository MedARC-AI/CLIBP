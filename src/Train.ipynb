{
 "cells": [
  {
   "cell_type": "markdown",
   "id": "b0f0f4f3",
   "metadata": {},
   "source": [
    "# Import packages & functions"
   ]
  },
  {
   "cell_type": "code",
   "execution_count": 1,
   "id": "5bad764b-45c1-45ce-a716-8d055e09821a",
   "metadata": {
    "tags": []
   },
   "outputs": [
    {
     "name": "stdout",
     "output_type": "stream",
     "text": [
      "Number of available CUDA devices: 1\n",
      "LOCAL RANK=0\n",
      "NUM GPUS=1\n",
      "NODE=0\n",
      "GLOBAL RANK=0\n",
      "WORLD_SIZE=1\n",
      "\n",
      "__CONFIG__\n",
      "model_name = brain_textfrozen_brainckpt_loss1\n",
      "data_path = /weka/proj-fmri/shared/mindeyev2_dataset\n",
      "cache_dir = /weka/proj-fmri/shared/cache\n",
      "batch_size = 128\n",
      "wandb_log = True\n",
      "ckpt_interval = 10\n",
      "ckpt_saving = False\n",
      "seed = 0\n",
      "hidden_dim = 768\n",
      "seq_len = 1\n",
      "max_lr = 3e-05\n",
      "num_epochs = 50\n",
      "num_test_iterations_per_epoch = 30\n",
      "use_brain = True\n",
      "temperature = 0.006\n",
      "\n",
      "\n",
      "PID of this process = 1546942\n",
      "device = cuda distributed = False num_devices = 1 local rank = 0 world size = 1 data_type = torch.float32\n"
     ]
    }
   ],
   "source": [
    "# Import packages and setup gpu configuration.\n",
    "# This code block shouldnt need to be adjusted!\n",
    "import os\n",
    "import sys\n",
    "import json\n",
    "import yaml\n",
    "import numpy as np\n",
    "import copy\n",
    "import math\n",
    "import time\n",
    "import random\n",
    "import webdataset as wds\n",
    "import matplotlib.pyplot as plt\n",
    "import h5py\n",
    "\n",
    "import torch\n",
    "import torch.nn as nn\n",
    "from torchvision import transforms\n",
    "import utils\n",
    "from models import *\n",
    "\n",
    "# tf32 data type is faster than standard float32\n",
    "torch.backends.cuda.matmul.allow_tf32 = True\n",
    "torch.backends.cudnn.benchmark = True # fixes Conv3D\n",
    "\n",
    "### Multi-GPU config ###\n",
    "device_count = torch.cuda.device_count()\n",
    "print(f\"Number of available CUDA devices: {device_count}\")\n",
    "\n",
    "local_rank = os.getenv('LOCAL_RANK')\n",
    "if local_rank is None: \n",
    "    local_rank = 0\n",
    "else:\n",
    "    local_rank = int(local_rank)\n",
    "print(f\"LOCAL RANK={local_rank}\")\n",
    "\n",
    "num_devices = os.getenv('NUM_GPUS')\n",
    "if num_devices is None: \n",
    "    num_devices = 1\n",
    "else:\n",
    "    num_devices = int(num_devices)\n",
    "print(f\"NUM GPUS={num_devices}\")\n",
    "distributed = True if num_devices>1 else False\n",
    "if distributed: assert device_count==num_devices\n",
    "\n",
    "node = os.getenv('SLURM_NODEID')\n",
    "if node is None:\n",
    "    node = 0\n",
    "else:\n",
    "    node = int(node)\n",
    "print(f\"NODE={node}\")\n",
    "\n",
    "global_rank = os.getenv('RANK')\n",
    "if global_rank is None:\n",
    "    global_rank = 0\n",
    "else:\n",
    "    global_rank = int(global_rank)\n",
    "print(f\"GLOBAL RANK={global_rank}\")\n",
    "\n",
    "world_size = os.getenv('WORLD_SIZE')\n",
    "if world_size is None: \n",
    "    world_size = 1\n",
    "else:\n",
    "    world_size = int(world_size)\n",
    "print(f\"WORLD_SIZE={world_size}\")\n",
    "\n",
    "if utils.is_interactive():\n",
    "    # Following allows you to change functions in models.py or utils.py and \n",
    "    # have this notebook automatically update with your revisions\n",
    "    %load_ext autoreload\n",
    "    %autoreload 2\n",
    "    from tqdm.notebook import tqdm\n",
    "else:\n",
    "    from tqdm import tqdm\n",
    "\n",
    "# Load parameters from yaml config\n",
    "config = yaml.load(open('config.yaml', 'r'), Loader=yaml.FullLoader)\n",
    "\n",
    "# create global variables from the config\n",
    "print(\"\\n__CONFIG__\")\n",
    "for attribute_name in config.keys():\n",
    "    print(f\"{attribute_name} = {config[attribute_name]}\")\n",
    "    globals()[attribute_name] = config[f'{attribute_name}']\n",
    "print(\"\\n\")\n",
    "\n",
    "data_type = torch.float32 # change depending on your mixed_precision\n",
    "global_batch_size = batch_size * world_size\n",
    "\n",
    "# FSDP Setup\n",
    "if distributed:\n",
    "    import torch.distributed as dist\n",
    "    import torch.multiprocessing as mp\n",
    "    from torch.distributed.fsdp import FullyShardedDataParallel as FSDP\n",
    "    from torch.distributed.fsdp.api import BackwardPrefetch, CPUOffload, ShardingStrategy\n",
    "    import functools\n",
    "    from torch.distributed.fsdp.wrap import size_based_auto_wrap_policy, transformer_auto_wrap_policy\n",
    "    print(f\"setting device to cuda:{local_rank}\")\n",
    "    torch.cuda.set_device(local_rank)\n",
    "    device = torch.device('cuda',local_rank)\n",
    "    dist.init_process_group(\"nccl\", rank=global_rank, world_size=world_size)\n",
    "    print(f\"\\nSuccessfully set cuda:{local_rank} | global_rank{global_rank} | node{node}\")\n",
    "    dist.barrier()\n",
    "    print(f\"global_rank{global_rank} passed barrier\")\n",
    "else:\n",
    "    device = torch.device('cuda')\n",
    "\n",
    "print(\"PID of this process =\",os.getpid())\n",
    "print(\"device =\", device, \"distributed =\",distributed, \"num_devices =\", num_devices, \"local rank =\", local_rank, \"world size =\", world_size, \"data_type =\", data_type)\n",
    "\n",
    "# seed all random functions\n",
    "utils.seed_everything(seed + global_rank)"
   ]
  },
  {
   "cell_type": "markdown",
   "id": "42d13c25-1369-4c49-81d4-83d713586096",
   "metadata": {
    "tags": []
   },
   "source": [
    "# Prep data, models, and dataloaders"
   ]
  },
  {
   "cell_type": "markdown",
   "id": "1c023f24-5233-4a15-a2f5-78487b3a8546",
   "metadata": {},
   "source": [
    "### Creating wds dataloader, preload betas and all 73k possible images"
   ]
  },
  {
   "cell_type": "code",
   "execution_count": 2,
   "id": "aefe7c27-ab39-4b2c-90f4-480f4087b7ab",
   "metadata": {},
   "outputs": [
    {
     "name": "stdout",
     "output_type": "stream",
     "text": [
      "subj_list [2 3 4 5 6 7 8]\n",
      "dividing batch size by subj_list, which will then be concatenated across subj during training...\n",
      "batch_size = 18 num_iterations_per_epoch = 238 num_samples_per_epoch = 30000\n"
     ]
    }
   ],
   "source": [
    "def my_split_by_node(urls): return urls\n",
    "num_voxels_list = []\n",
    "subj_list = np.arange(1,9)\n",
    "\n",
    "# remove subj\n",
    "subj = 1\n",
    "subj_list = subj_list[subj_list != subj]\n",
    "print(\"subj_list\", subj_list)\n",
    "\n",
    "nsessions_allsubj=np.array([40, 40, 32, 30, 40, 32, 40, 30])\n",
    "num_samples_per_epoch = (750*40) // num_devices \n",
    "\n",
    "print(\"dividing batch size by subj_list, which will then be concatenated across subj during training...\") \n",
    "batch_size = batch_size // len(subj_list)\n",
    "\n",
    "num_iterations_per_epoch = num_samples_per_epoch // (batch_size*len(subj_list))\n",
    "\n",
    "print(\"batch_size =\", batch_size, \"num_iterations_per_epoch =\",num_iterations_per_epoch, \"num_samples_per_epoch =\",num_samples_per_epoch)"
   ]
  },
  {
   "cell_type": "code",
   "execution_count": 3,
   "id": "81084834-035f-4465-ad59-59e6b806a2f5",
   "metadata": {},
   "outputs": [
    {
     "name": "stdout",
     "output_type": "stream",
     "text": [
      "/weka/proj-fmri/shared/mindeyev2_dataset/wds/subj02/train/{0..39}.tar\n",
      "num_voxels for subj02: 14278\n",
      "/weka/proj-fmri/shared/mindeyev2_dataset/wds/subj03/train/{0..31}.tar\n",
      "num_voxels for subj03: 15226\n",
      "/weka/proj-fmri/shared/mindeyev2_dataset/wds/subj04/train/{0..29}.tar\n",
      "num_voxels for subj04: 13153\n",
      "/weka/proj-fmri/shared/mindeyev2_dataset/wds/subj05/train/{0..39}.tar\n",
      "num_voxels for subj05: 13039\n",
      "/weka/proj-fmri/shared/mindeyev2_dataset/wds/subj06/train/{0..31}.tar\n",
      "num_voxels for subj06: 17907\n",
      "/weka/proj-fmri/shared/mindeyev2_dataset/wds/subj07/train/{0..39}.tar\n",
      "num_voxels for subj07: 12682\n",
      "/weka/proj-fmri/shared/mindeyev2_dataset/wds/subj08/train/{0..29}.tar\n",
      "num_voxels for subj08: 14386\n",
      "Loaded all subj train dls and betas!\n",
      "\n",
      "/weka/proj-fmri/shared/mindeyev2_dataset/wds/subj02/new_test/0.tar\n",
      "Loaded test dl for subj2!\n",
      "\n"
     ]
    }
   ],
   "source": [
    "train_data = {}\n",
    "train_dl = {}\n",
    "num_voxels = {}\n",
    "voxels = {}\n",
    "for s in subj_list:\n",
    "    train_url = f\"{data_path}/wds/subj0{s}/train/\" + \"{0..\" + f\"{nsessions_allsubj[s-1]-1}\" + \"}.tar\"\n",
    "    print(train_url)\n",
    "    \n",
    "    train_data[f'subj0{s}'] = wds.WebDataset(train_url,resampled=True,nodesplitter=my_split_by_node)\\\n",
    "                        .shuffle(750, initial=1500, rng=random.Random(42))\\\n",
    "                        .decode(\"torch\")\\\n",
    "                        .rename(behav=\"behav.npy\", past_behav=\"past_behav.npy\", future_behav=\"future_behav.npy\", olds_behav=\"olds_behav.npy\")\\\n",
    "                        .to_tuple(*[\"behav\", \"past_behav\", \"future_behav\", \"olds_behav\"])\n",
    "    train_dl[f'subj0{s}'] = torch.utils.data.DataLoader(train_data[f'subj0{s}'], batch_size=batch_size, shuffle=False, drop_last=True, pin_memory=True)\n",
    "\n",
    "    # Load hdf5 data for betas, but don't put everything into memory\n",
    "    f = h5py.File(f'{data_path}/betas_all_subj0{s}_fp32_renorm.hdf5', 'r')\n",
    "    \n",
    "    betas = f['betas'][:]\n",
    "    betas = torch.Tensor(betas).to(\"cpu\").to(data_type)\n",
    "    num_voxels_list.append(betas[0].shape[-1])\n",
    "    num_voxels[f'subj0{s}'] = betas[0].shape[-1]\n",
    "    voxels[f'subj0{s}'] = betas\n",
    "    print(f\"num_voxels for subj0{s}: {num_voxels[f'subj0{s}']}\")\n",
    "\n",
    "print(\"Loaded all subj train dls and betas!\\n\")\n",
    "\n",
    "# Validate only on one subject\n",
    "subj = subj_list[0] # cant validate on the actual held out person so picking first in subj_list\n",
    "# if subj==3:\n",
    "#     num_test=2371\n",
    "# elif subj==4:\n",
    "#     num_test=2188\n",
    "# elif subj==6:\n",
    "#     num_test=2371\n",
    "# elif subj==8:\n",
    "#     num_test=2188\n",
    "# else:\n",
    "#     num_test=3000\n",
    "test_url = f\"{data_path}/wds/subj0{subj}/new_test/\" + \"0.tar\"\n",
    "print(test_url)\n",
    "test_data = wds.WebDataset(test_url,resampled=True,nodesplitter=my_split_by_node)\\\n",
    "                    .shuffle(750, initial=1500, rng=random.Random(42))\\\n",
    "                    .decode(\"torch\")\\\n",
    "                    .rename(behav=\"behav.npy\", past_behav=\"past_behav.npy\", future_behav=\"future_behav.npy\", olds_behav=\"olds_behav.npy\")\\\n",
    "                    .to_tuple(*[\"behav\", \"past_behav\", \"future_behav\", \"olds_behav\"])\n",
    "test_dl = torch.utils.data.DataLoader(test_data, batch_size=100, shuffle=False, drop_last=True, pin_memory=True)\n",
    "print(f\"Loaded test dl for subj{subj}!\\n\")"
   ]
  },
  {
   "cell_type": "code",
   "execution_count": 4,
   "id": "c13b4b84-094c-4b5b-bace-26c155aa6181",
   "metadata": {},
   "outputs": [
    {
     "name": "stdout",
     "output_type": "stream",
     "text": [
      "Loaded all 73k possible NSD images to cpu! torch.Size([73000, 3, 224, 224])\n"
     ]
    }
   ],
   "source": [
    "# Load 73k NSD images\n",
    "f = h5py.File(f'{data_path}/coco_images_224_float16.hdf5', 'r')\n",
    "images = f['images'][:]\n",
    "images = torch.Tensor(images).to(\"cpu\").to(data_type)\n",
    "print(\"Loaded all 73k possible NSD images to cpu!\", images.shape)"
   ]
  },
  {
   "cell_type": "code",
   "execution_count": 5,
   "id": "93ed5e2c-52bf-48ef-8d97-5aa087766b65",
   "metadata": {
    "tags": []
   },
   "outputs": [
    {
     "data": {
      "text/plain": [
       "array([\"A person kitesurfing over the waves of the ocean's shore.\",\n",
       "       'A cat sitting on the edge of the toilet looking toward the open bathroom door.'],\n",
       "      dtype='<U78')"
      ]
     },
     "execution_count": 5,
     "metadata": {},
     "output_type": "execute_result"
    }
   ],
   "source": [
    "annots = np.load(f'{data_path}/COCO_73k_annots_curated.npy')\n",
    "\n",
    "def embed_curated_annotations(annots,random=True):\n",
    "    for i,b in enumerate(annots):\n",
    "        t = ''\n",
    "        j = -1\n",
    "        while t == '':\n",
    "            if random:\n",
    "                rand = torch.randint(5,(1,1))[0][0]\n",
    "                t = b[rand]\n",
    "            else:\n",
    "                j += 1\n",
    "                t = b[j]\n",
    "        if i==0:\n",
    "            txt = np.array(t)\n",
    "        else:\n",
    "            txt = np.hstack((txt,t))\n",
    "    return txt\n",
    "    \n",
    "embed_curated_annotations(annots[:2],random=False)"
   ]
  },
  {
   "cell_type": "markdown",
   "id": "10ec4517-dbdf-4ece-98f6-4714d5de4e15",
   "metadata": {},
   "source": [
    "## Load models"
   ]
  },
  {
   "cell_type": "code",
   "execution_count": 6,
   "id": "71d60d99-d947-4830-9c46-3422abd962de",
   "metadata": {
    "tags": []
   },
   "outputs": [
    {
     "data": {
      "text/plain": [
       "BaseModule()"
      ]
     },
     "execution_count": 6,
     "metadata": {},
     "output_type": "execute_result"
    }
   ],
   "source": [
    "class BaseModule(nn.Module):\n",
    "    def __init__(self):\n",
    "        super(BaseModule, self).__init__()\n",
    "    def forward(self, x):\n",
    "        return x\n",
    "model = BaseModule()\n",
    "model"
   ]
  },
  {
   "cell_type": "code",
   "execution_count": 7,
   "id": "b0420dc0-199e-4c1a-857d-b1747058b467",
   "metadata": {},
   "outputs": [],
   "source": [
    "import clip # so we can use the clip tokenizer\n",
    "preprocess = transforms.Compose([\n",
    "    transforms.Resize(224, interpolation=transforms.InterpolationMode.BILINEAR),\n",
    "    transforms.Normalize(mean=[0.48145466, 0.4578275, 0.40821073],\n",
    "                         std=[0.26862954, 0.26130258, 0.27577711]),\n",
    "])\n",
    "clip_seq_dim = 1\n",
    "clip_emb_dim = 768"
   ]
  },
  {
   "cell_type": "code",
   "execution_count": 8,
   "id": "b5d92cf2-6400-4f30-8613-4f217130c102",
   "metadata": {
    "tags": []
   },
   "outputs": [
    {
     "name": "stderr",
     "output_type": "stream",
     "text": [
      "/admin/home-paulscotti/mindeye/lib/python3.11/site-packages/torch/nn/modules/transformer.py:282: UserWarning: enable_nested_tensor is True, but self.use_nested_tensor is False because encoder_layer.self_attn.batch_first was not True(use batch_first for better inference performance)\n",
      "  warnings.warn(f\"enable_nested_tensor is True, but self.use_nested_tensor is False because {why_not_sparsity_fast_path}\")\n"
     ]
    },
    {
     "name": "stdout",
     "output_type": "stream",
     "text": [
      "param counts:\n",
      "86,389,248 total\n",
      "86,389,248 trainable\n",
      "param counts:\n",
      "86,389,248 total\n",
      "86,389,248 trainable\n",
      "torch.Size([2, 3, 224, 224]) torch.Size([2, 768])\n"
     ]
    }
   ],
   "source": [
    "class SimpleViT(nn.Module):\n",
    "    def __init__(self, image_size=224, patch_size=16, num_classes=768, dim=768, depth=12, heads=12, mlp_dim=3072, channels=3, dropout=0.1, emb_dropout=0.1):\n",
    "        super(SimpleViT, self).__init__()\n",
    "\n",
    "        assert image_size % patch_size == 0, 'Image dimensions must be divisible by the patch size.'\n",
    "        num_patches = (image_size // patch_size) ** 2\n",
    "        patch_dim = channels * patch_size ** 2\n",
    "\n",
    "        self.patch_size = patch_size\n",
    "\n",
    "        self.to_patch_embedding = nn.Conv2d(channels, dim, kernel_size=patch_size, stride=patch_size)\n",
    "\n",
    "        self.pos_embedding = nn.Parameter(torch.randn(1, num_patches + 1, dim))\n",
    "        self.cls_token = nn.Parameter(torch.randn(1, 1, dim))\n",
    "        self.dropout = nn.Dropout(emb_dropout)\n",
    "\n",
    "        self.transformer = nn.TransformerEncoder(\n",
    "            nn.TransformerEncoderLayer(d_model=dim, nhead=heads, dim_feedforward=mlp_dim, dropout=dropout),\n",
    "            num_layers=depth\n",
    "        )\n",
    "\n",
    "        self.to_cls_token = nn.Identity()\n",
    "        self.mlp_head = nn.Sequential(\n",
    "            nn.LayerNorm(dim),\n",
    "            nn.Linear(dim, num_classes)\n",
    "        )\n",
    "\n",
    "    def forward(self, img):\n",
    "        x = self.to_patch_embedding(img)  # (batch_size, dim, num_patches ** 0.5, num_patches ** 0.5)\n",
    "        x = x.flatten(2)  # (batch_size, dim, num_patches)\n",
    "        x = x.transpose(1, 2)  # (batch_size, num_patches, dim)\n",
    "        b, n, _ = x.shape\n",
    "\n",
    "        cls_tokens = self.cls_token.expand(b, -1, -1)\n",
    "        x = torch.cat((cls_tokens, x), dim=1)  # (batch_size, num_patches + 1, dim)\n",
    "        x += self.pos_embedding[:, :(n + 1)]\n",
    "        x = self.dropout(x)\n",
    "\n",
    "        x = x.transpose(0, 1)  # Transformer expects (seq_len, batch_size, dim)\n",
    "        x = self.transformer(x)\n",
    "        x = x[0]  # Take the CLS token output\n",
    "        return self.mlp_head(x)\n",
    "    \n",
    "model.image = SimpleViT()\n",
    "utils.count_params(model.image)\n",
    "utils.count_params(model)\n",
    "\n",
    "# test on subject 1 with fake data\n",
    "b = preprocess(images[:2])\n",
    "print(b.shape, model.image(b).shape)"
   ]
  },
  {
   "cell_type": "code",
   "execution_count": 9,
   "id": "2123a531-fa93-4f51-a547-2f791ca1eb2d",
   "metadata": {
    "tags": []
   },
   "outputs": [],
   "source": [
    "# class SimpleTextTransformer(nn.Module):\n",
    "#     def __init__(self, vocab_size=49408, d_model=768, nhead=12, num_layers=6, dim_feedforward=2048, dropout=0.1):\n",
    "#         super(SimpleTextTransformer, self).__init__()\n",
    "#         self.embedding = nn.Embedding(vocab_size, d_model)\n",
    "#         self.positional_encoding = nn.Parameter(torch.randn(1, 77, d_model))  # Assuming max token length of 77\n",
    "#         self.transformer = nn.TransformerEncoder(\n",
    "#             nn.TransformerEncoderLayer(d_model=d_model, nhead=nhead, dim_feedforward=dim_feedforward, dropout=dropout),\n",
    "#             num_layers=num_layers\n",
    "#         )\n",
    "#         self.fc_out = nn.Linear(d_model, 768)\n",
    "\n",
    "#     def forward(self, src):\n",
    "#         # src shape: (batch_size, seq_len)\n",
    "#         src = self.embedding(src) + self.positional_encoding[:, :src.size(1), :]\n",
    "#         # Transformer expects (seq_len, batch_size, dim)\n",
    "#         src = src.permute(1, 0, 2)\n",
    "#         src = self.transformer(src)\n",
    "#         # Permute back to (batch_size, seq_len, dim)\n",
    "#         src = src.permute(1, 0, 2)\n",
    "#         # Use mean pooling over the sequence length for simplicity\n",
    "#         src = src.mean(dim=1)\n",
    "#         return self.fc_out(src)\n",
    "    \n",
    "# model.text = SimpleTextTransformer()\n",
    "# utils.count_params(model.text)\n",
    "# utils.count_params(model)\n",
    "\n",
    "# # test on subject 1 with fake data\n",
    "# b = clip.tokenize(embed_curated_annotations(annots[:2]))\n",
    "# print(b.shape, model.text(b).shape)\n",
    "\n",
    "clip_model, _ = clip.load(\"ViT-L/14\", device=device)\n",
    "# clip_model.encode_text(text)"
   ]
  },
  {
   "cell_type": "code",
   "execution_count": 10,
   "id": "038a5d61-4769-40b9-a004-f4e7b5b38bb0",
   "metadata": {},
   "outputs": [
    {
     "name": "stdout",
     "output_type": "stream",
     "text": [
      "param counts:\n",
      "105,527,296 total\n",
      "105,527,296 trainable\n",
      "param counts:\n",
      "191,916,544 total\n",
      "191,916,544 trainable\n",
      "torch.Size([2, 1, 14278]) torch.Size([2, 768])\n"
     ]
    }
   ],
   "source": [
    "if use_brain:\n",
    "    class RidgeRegression(torch.nn.Module):\n",
    "        # make sure to add weight_decay when initializing optimizer\n",
    "        def __init__(self, input_sizes, out_features, final_out, seq_len): \n",
    "            super(RidgeRegression, self).__init__()\n",
    "            self.out_features = out_features\n",
    "            self.linears = torch.nn.ModuleList([\n",
    "                    torch.nn.Linear(input_size, out_features) for input_size in input_sizes\n",
    "                ])\n",
    "            self.projector = nn.Sequential(\n",
    "                nn.LayerNorm(out_features),\n",
    "                nn.GELU(),\n",
    "                nn.Linear(out_features, out_features),\n",
    "                nn.LayerNorm(out_features),\n",
    "                nn.GELU(),\n",
    "                nn.Linear(out_features, final_out),\n",
    "                nn.LayerNorm(final_out),\n",
    "                nn.GELU(),\n",
    "                nn.Linear(final_out, final_out)\n",
    "            )\n",
    "        def forward(self, x, subj_idx=0):\n",
    "            out = torch.cat([self.linears[subj_idx](x[:,seq]).unsqueeze(1) for seq in range(seq_len)], dim=1)\n",
    "            out = self.projector(out).squeeze(1)\n",
    "            return out\n",
    "\n",
    "    model.ridge = RidgeRegression(num_voxels_list, out_features=1024, final_out=hidden_dim, seq_len=seq_len)\n",
    "    utils.count_params(model.ridge)\n",
    "    utils.count_params(model)\n",
    "\n",
    "    # test on subject 1 with fake data\n",
    "    b = torch.randn((2,seq_len,num_voxels_list[0]))\n",
    "    print(b.shape, model.ridge(b,0).shape)"
   ]
  },
  {
   "cell_type": "code",
   "execution_count": 11,
   "id": "9e6db2d8-dd5a-4cf1-86c7-27127b542808",
   "metadata": {
    "tags": []
   },
   "outputs": [
    {
     "name": "stdout",
     "output_type": "stream",
     "text": [
      "[2024-05-20 17:22:48,704] [INFO] [real_accelerator.py:158:get_accelerator] Setting ds_accelerator to cuda (auto detect)\n",
      "ckpt loaded!\n"
     ]
    }
   ],
   "source": [
    "if use_brain:\n",
    "    ckpt_path = \"/weka/proj-fmri/paulscotti/MindEyeV2/train_logs/multisubject_subj01_1024hid/last.pth\"\n",
    "    checkpoint = torch.load(ckpt_path, map_location='cpu')\n",
    "    state_dict = checkpoint['model_state_dict']\n",
    "    model.load_state_dict(state_dict, strict=False)\n",
    "    print(\"ckpt loaded!\")\n",
    "    \n",
    "    # disable further training of the linears\n",
    "    model.ridge.linears.requires_grad_(False)"
   ]
  },
  {
   "cell_type": "markdown",
   "id": "ec25271a-2209-400c-8026-df3b8ddc1eef",
   "metadata": {},
   "source": [
    "### Setup optimizer / lr / ckpt saving"
   ]
  },
  {
   "cell_type": "code",
   "execution_count": 12,
   "id": "e14d0482-dc42-43b9-9ce1-953c32f2c9c1",
   "metadata": {},
   "outputs": [
    {
     "name": "stdout",
     "output_type": "stream",
     "text": [
      "total_steps 11900\n",
      "\n",
      "Done with model preparations!\n",
      "param counts:\n",
      "191,916,544 total\n",
      "88,822,272 trainable\n"
     ]
    }
   ],
   "source": [
    "no_decay = ['bias', 'LayerNorm.bias', 'LayerNorm.weight']\n",
    "\n",
    "opt_grouped_parameters = [\n",
    "    {'params': [p for n, p in model.named_parameters() if not any(nd in n for nd in no_decay)], 'weight_decay': 1e-2},\n",
    "    {'params': [p for n, p in model.named_parameters() if any(nd in n for nd in no_decay)], 'weight_decay': 0.0},\n",
    "]\n",
    "\n",
    "optimizer = torch.optim.AdamW(opt_grouped_parameters, lr=max_lr)\n",
    "\n",
    "total_steps=int(np.floor(num_epochs*num_iterations_per_epoch))\n",
    "print(\"total_steps\", total_steps)\n",
    "lr_scheduler = torch.optim.lr_scheduler.OneCycleLR(\n",
    "    optimizer, \n",
    "    max_lr=max_lr,\n",
    "    total_steps=total_steps,\n",
    "    final_div_factor=1000,\n",
    "    last_epoch=-1, pct_start=2/num_epochs\n",
    ")\n",
    "\n",
    "outdir = os.path.abspath(f'../ckpts/{model_name}')\n",
    "    \n",
    "def save_ckpt(tag):\n",
    "    ckpt_path = outdir+f'/{tag}.pth'\n",
    "    os.makedirs(outdir,exist_ok=True)\n",
    "    if accelerator.is_main_process:\n",
    "        unwrapped_model = accelerator.unwrap_model(model)\n",
    "        torch.save({\n",
    "            'epoch': epoch,\n",
    "            'model_state_dict': unwrapped_model.state_dict(),\n",
    "            'optimizer_state_dict': optimizer.state_dict(),\n",
    "            'lr_scheduler': lr_scheduler.state_dict(),\n",
    "            'train_losses': losses,\n",
    "            'test_losses': test_losses,\n",
    "            'lrs': lrs,\n",
    "            }, ckpt_path)\n",
    "    print(f\"\\n---saved {outdir}/{tag} ckpt!---\\n\")\n",
    "\n",
    "def load_ckpt(tag,load_lr=True,load_optimizer=True,load_epoch=True,strict=True,outdir=outdir,multisubj_loading=False): \n",
    "    print(f\"\\n---loading {outdir}/{tag}.pth ckpt---\\n\")\n",
    "    checkpoint = torch.load(outdir+'/last.pth', map_location='cpu')\n",
    "    state_dict = checkpoint['model_state_dict']\n",
    "    if multisubj_loading: # remove incompatible ridge layer that will otherwise error\n",
    "        state_dict.pop('ridge.linears.0.weight',None)\n",
    "    model.load_state_dict(state_dict, strict=strict)\n",
    "    if load_epoch:\n",
    "        globals()[\"epoch\"] = checkpoint['epoch']\n",
    "        print(\"Epoch\",epoch)\n",
    "    if load_optimizer:\n",
    "        optimizer.load_state_dict(checkpoint['optimizer_state_dict'])\n",
    "    if load_lr:\n",
    "        lr_scheduler.load_state_dict(checkpoint['lr_scheduler'])\n",
    "    del checkpoint\n",
    "\n",
    "print(\"\\nDone with model preparations!\")\n",
    "num_params = utils.count_params(model)"
   ]
  },
  {
   "cell_type": "markdown",
   "id": "983f458b-35b8-49f2-b6db-80296cece730",
   "metadata": {},
   "source": [
    "# Weights and Biases"
   ]
  },
  {
   "cell_type": "code",
   "execution_count": 13,
   "id": "0a25a662-daa8-4de9-9233-8364800fcb6b",
   "metadata": {},
   "outputs": [
    {
     "name": "stdout",
     "output_type": "stream",
     "text": [
      "wandb neuroclip run brain_textfrozen_brainckpt_loss1\n",
      "wandb_config:\n",
      " {'model_name': 'brain_textfrozen_brainckpt_loss1', 'global_batch_size': 128, 'batch_size': 18, 'num_epochs': 50, 'num_params': 88822272, 'max_lr': 3e-05, 'num_samples_per_epoch': 30000, 'ckpt_interval': 10, 'ckpt_saving': False, 'seed': 0, 'distributed': False, 'num_devices': 1, 'world_size': 1, 'train_url': '/weka/proj-fmri/shared/mindeyev2_dataset/wds/subj08/train/{0..29}.tar', 'test_url': '/weka/proj-fmri/shared/mindeyev2_dataset/wds/subj02/new_test/0.tar'}\n",
      "wandb_id: brain_textfrozen_brainckpt_loss1\n"
     ]
    },
    {
     "name": "stderr",
     "output_type": "stream",
     "text": [
      "\u001b[34m\u001b[1mwandb\u001b[0m: Currently logged in as: \u001b[33mpaul-scotti\u001b[0m. Use \u001b[1m`wandb login --relogin`\u001b[0m to force relogin\n"
     ]
    },
    {
     "data": {
      "text/html": [
       "wandb version 0.17.0 is available!  To upgrade, please run:\n",
       " $ pip install wandb --upgrade"
      ],
      "text/plain": [
       "<IPython.core.display.HTML object>"
      ]
     },
     "metadata": {},
     "output_type": "display_data"
    },
    {
     "data": {
      "text/html": [
       "Tracking run with wandb version 0.16.6"
      ],
      "text/plain": [
       "<IPython.core.display.HTML object>"
      ]
     },
     "metadata": {},
     "output_type": "display_data"
    },
    {
     "data": {
      "text/html": [
       "Run data is saved locally in <code>/weka/proj-fmri/paulscotti/MindEyeV2/wandb/run-20240520_172303-brain_textfrozen_brainckpt_loss1</code>"
      ],
      "text/plain": [
       "<IPython.core.display.HTML object>"
      ]
     },
     "metadata": {},
     "output_type": "display_data"
    },
    {
     "data": {
      "text/html": [
       "Syncing run <strong><a href='https://wandb.ai/paul-scotti/neuroclip/runs/brain_textfrozen_brainckpt_loss1' target=\"_blank\">brain_textfrozen_brainckpt_loss1</a></strong> to <a href='https://wandb.ai/paul-scotti/neuroclip' target=\"_blank\">Weights & Biases</a> (<a href='https://wandb.me/run' target=\"_blank\">docs</a>)<br/>"
      ],
      "text/plain": [
       "<IPython.core.display.HTML object>"
      ]
     },
     "metadata": {},
     "output_type": "display_data"
    },
    {
     "data": {
      "text/html": [
       " View project at <a href='https://wandb.ai/paul-scotti/neuroclip' target=\"_blank\">https://wandb.ai/paul-scotti/neuroclip</a>"
      ],
      "text/plain": [
       "<IPython.core.display.HTML object>"
      ]
     },
     "metadata": {},
     "output_type": "display_data"
    },
    {
     "data": {
      "text/html": [
       " View run at <a href='https://wandb.ai/paul-scotti/neuroclip/runs/brain_textfrozen_brainckpt_loss1' target=\"_blank\">https://wandb.ai/paul-scotti/neuroclip/runs/brain_textfrozen_brainckpt_loss1</a>"
      ],
      "text/plain": [
       "<IPython.core.display.HTML object>"
      ]
     },
     "metadata": {},
     "output_type": "display_data"
    }
   ],
   "source": [
    "if local_rank==0 and wandb_log: # only use main process for wandb logging\n",
    "    import wandb\n",
    "    wandb_project = 'neuroclip'\n",
    "    print(f\"wandb {wandb_project} run {model_name}\")\n",
    "    # need to configure wandb beforehand in terminal with \"wandb init\"!\n",
    "    wandb_config = {\n",
    "      \"model_name\": model_name,\n",
    "      \"global_batch_size\": global_batch_size,\n",
    "      \"batch_size\": batch_size,\n",
    "      \"num_epochs\": num_epochs,\n",
    "      \"num_params\": num_params,\n",
    "      \"max_lr\": max_lr,\n",
    "      \"num_samples_per_epoch\": num_samples_per_epoch,\n",
    "      \"ckpt_interval\": ckpt_interval,\n",
    "      \"ckpt_saving\": ckpt_saving,\n",
    "      \"seed\": seed,\n",
    "      \"distributed\": distributed,\n",
    "      \"num_devices\": num_devices,\n",
    "      \"world_size\": world_size,\n",
    "      \"train_url\": train_url,\n",
    "      \"test_url\": test_url,\n",
    "    }\n",
    "    print(\"wandb_config:\\n\",wandb_config)\n",
    "    print(\"wandb_id:\",model_name)\n",
    "    wandb.init(\n",
    "        id=model_name,\n",
    "        project=wandb_project,\n",
    "        name=model_name,\n",
    "        config=wandb_config,\n",
    "        resume=\"allow\",\n",
    "    )\n",
    "else:\n",
    "    wandb_log = False"
   ]
  },
  {
   "cell_type": "markdown",
   "id": "d5690151-2131-4918-b750-e869cbd1a8a8",
   "metadata": {},
   "source": [
    "# Main"
   ]
  },
  {
   "cell_type": "code",
   "execution_count": 14,
   "id": "12de6387-6e18-4e4b-b5ce-a847d625330a",
   "metadata": {},
   "outputs": [
    {
     "data": {
      "text/plain": [
       "BaseModule(\n",
       "  (image): SimpleViT(\n",
       "    (to_patch_embedding): Conv2d(3, 768, kernel_size=(16, 16), stride=(16, 16))\n",
       "    (dropout): Dropout(p=0.1, inplace=False)\n",
       "    (transformer): TransformerEncoder(\n",
       "      (layers): ModuleList(\n",
       "        (0-11): 12 x TransformerEncoderLayer(\n",
       "          (self_attn): MultiheadAttention(\n",
       "            (out_proj): NonDynamicallyQuantizableLinear(in_features=768, out_features=768, bias=True)\n",
       "          )\n",
       "          (linear1): Linear(in_features=768, out_features=3072, bias=True)\n",
       "          (dropout): Dropout(p=0.1, inplace=False)\n",
       "          (linear2): Linear(in_features=3072, out_features=768, bias=True)\n",
       "          (norm1): LayerNorm((768,), eps=1e-05, elementwise_affine=True)\n",
       "          (norm2): LayerNorm((768,), eps=1e-05, elementwise_affine=True)\n",
       "          (dropout1): Dropout(p=0.1, inplace=False)\n",
       "          (dropout2): Dropout(p=0.1, inplace=False)\n",
       "        )\n",
       "      )\n",
       "    )\n",
       "    (to_cls_token): Identity()\n",
       "    (mlp_head): Sequential(\n",
       "      (0): LayerNorm((768,), eps=1e-05, elementwise_affine=True)\n",
       "      (1): Linear(in_features=768, out_features=768, bias=True)\n",
       "    )\n",
       "  )\n",
       "  (ridge): RidgeRegression(\n",
       "    (linears): ModuleList(\n",
       "      (0): Linear(in_features=14278, out_features=1024, bias=True)\n",
       "      (1): Linear(in_features=15226, out_features=1024, bias=True)\n",
       "      (2): Linear(in_features=13153, out_features=1024, bias=True)\n",
       "      (3): Linear(in_features=13039, out_features=1024, bias=True)\n",
       "      (4): Linear(in_features=17907, out_features=1024, bias=True)\n",
       "      (5): Linear(in_features=12682, out_features=1024, bias=True)\n",
       "      (6): Linear(in_features=14386, out_features=1024, bias=True)\n",
       "    )\n",
       "    (projector): Sequential(\n",
       "      (0): LayerNorm((1024,), eps=1e-05, elementwise_affine=True)\n",
       "      (1): GELU(approximate='none')\n",
       "      (2): Linear(in_features=1024, out_features=1024, bias=True)\n",
       "      (3): LayerNorm((1024,), eps=1e-05, elementwise_affine=True)\n",
       "      (4): GELU(approximate='none')\n",
       "      (5): Linear(in_features=1024, out_features=768, bias=True)\n",
       "      (6): LayerNorm((768,), eps=1e-05, elementwise_affine=True)\n",
       "      (7): GELU(approximate='none')\n",
       "      (8): Linear(in_features=768, out_features=768, bias=True)\n",
       "    )\n",
       "  )\n",
       ")"
      ]
     },
     "execution_count": 14,
     "metadata": {},
     "output_type": "execute_result"
    }
   ],
   "source": [
    "epoch = 0\n",
    "losses, test_losses, lrs = [], [], []\n",
    "best_test_loss = 1e9\n",
    "torch.cuda.empty_cache()\n",
    "model.to(device)"
   ]
  },
  {
   "cell_type": "code",
   "execution_count": 15,
   "id": "99f09f76-4481-4133-b09a-a22b10dbc0c4",
   "metadata": {},
   "outputs": [],
   "source": [
    "train_dls = [train_dl[f'subj0{s}'] for s in subj_list]"
   ]
  },
  {
   "cell_type": "code",
   "execution_count": 16,
   "id": "60be0d5f-3e94-4612-9373-61b53d836393",
   "metadata": {},
   "outputs": [
    {
     "name": "stdout",
     "output_type": "stream",
     "text": [
      "brain_textfrozen_brainckpt_loss1 starting with epoch 0 / 50\n"
     ]
    },
    {
     "data": {
      "application/vnd.jupyter.widget-view+json": {
       "model_id": "a1bd7b81858145dca907151c9a403c7e",
       "version_major": 2,
       "version_minor": 0
      },
      "text/plain": [
       "  0%|                                                                                                         …"
      ]
     },
     "metadata": {},
     "output_type": "display_data"
    },
    {
     "name": "stdout",
     "output_type": "stream",
     "text": [
      "\n",
      "===Finished!===\n",
      "\n"
     ]
    }
   ],
   "source": [
    "print(f\"{model_name} starting with epoch {epoch} / {num_epochs}\")\n",
    "progress_bar = tqdm(range(epoch,num_epochs), ncols=1200, disable=(local_rank!=0))\n",
    "test_image, test_voxel = None, None\n",
    "mse = nn.MSELoss()\n",
    "l1 = nn.L1Loss()\n",
    "crossentropy = nn.CrossEntropyLoss()\n",
    "mixup_pct = 0.\n",
    "soft_loss_temps = utils.cosine_anneal(0.004, 0.0075, num_epochs - int(mixup_pct * num_epochs))\n",
    "\n",
    "for epoch in progress_bar:\n",
    "    model.train()\n",
    "\n",
    "    ret_percent_correct = 0.\n",
    "    test_ret_percent_correct = 0.\n",
    "    \n",
    "    txt_2_img_percent_correct = 0.\n",
    "    test_txt_2_img_percent_correct = 0.\n",
    "    \n",
    "    img_2_txt_percent_correct = 0.\n",
    "    test_img_2_txt_percent_correct = 0.\n",
    "\n",
    "    # pre-load all batches for this epoch (it's MUCH faster to pre-load in bulk than to separate loading per batch)\n",
    "    voxel_iters = {} # empty dict because diff subjects have differing # of voxels\n",
    "    image_iters = torch.zeros(num_iterations_per_epoch, batch_size*len(subj_list), 3, 224, 224).float()\n",
    "    annot_iters = torch.zeros(num_iterations_per_epoch, batch_size*len(subj_list), 77).long()\n",
    "    perm_iters, betas_iters, select_iters = {}, {}, {}\n",
    "    for s, train_dl in enumerate(train_dls):\n",
    "        with torch.cuda.amp.autocast(dtype=data_type):\n",
    "            for iter, (behav0, past_behav0, future_behav0, old_behav0) in enumerate(train_dl):    \n",
    "                image0 = images[behav0[:,0,0].cpu().long()].float()\n",
    "                image_iters[iter,s*batch_size:s*batch_size+batch_size] = image0\n",
    "                \n",
    "                text0 = embed_curated_annotations(annots[behav0[:,0,0].cpu().long().numpy()])\n",
    "                annot_iters[iter,s*batch_size:s*batch_size+batch_size] = clip.tokenize(text0)\n",
    "                \n",
    "                voxel0 = voxels[f'subj0{subj_list[s]}'][behav0[:,0,5].cpu().long()]\n",
    "                voxel0 = torch.Tensor(voxel0)\n",
    "                \n",
    "                # seq_len=1\n",
    "                voxel0 = voxel0.unsqueeze(1)\n",
    "\n",
    "                voxel_iters[f\"subj0{subj_list[s]}_iter{iter}\"] = voxel0\n",
    "\n",
    "                if iter >= num_iterations_per_epoch-1:\n",
    "                    break\n",
    "\n",
    "    # you now have voxel_iters and image_iters with num_iterations_per_epoch batches each\n",
    "    for train_i in range(num_iterations_per_epoch):\n",
    "        with torch.cuda.amp.autocast(dtype=data_type):\n",
    "            optimizer.zero_grad()\n",
    "\n",
    "            voxel_list = [voxel_iters[f\"subj0{s}_iter{train_i}\"].detach().to(device) for s in subj_list]\n",
    "            image = image_iters[train_i].detach()\n",
    "            image = image.to(device)\n",
    "            annot = annot_iters[train_i].detach()\n",
    "            annot = annot.to(device)\n",
    "\n",
    "            clip_image = model.image(image)\n",
    "            clip_text = clip_model.encode_text(annot) #model.text(annot)\n",
    "\n",
    "            if use_brain:\n",
    "                voxel_ridge_list = [model.ridge(voxel_list[si],si) for si,s in enumerate(subj_list)]\n",
    "                clip_brain = torch.cat(voxel_ridge_list, dim=0)\n",
    "            \n",
    "            labels = torch.arange(len(clip_image)).to(device)\n",
    "            \n",
    "            clip_image = nn.functional.normalize(clip_image, dim=-1)\n",
    "            clip_text = nn.functional.normalize(clip_text, dim=-1)\n",
    "            if use_brain:\n",
    "                clip_brain = nn.functional.normalize(clip_brain, dim=-1)\n",
    "\n",
    "#             # Calculate logits for each pair of modalities\n",
    "#             logits_image_text = (clip_image @ clip_text.T) / temperature\n",
    "#             logits_text_image = logits_image_text.T\n",
    "\n",
    "#             if use_brain:\n",
    "#                 logits_image_brain = (clip_image @ clip_brain.T) / temperature\n",
    "#                 logits_brain_image = logits_image_brain.T\n",
    "\n",
    "#                 logits_text_brain = (clip_text @ clip_brain.T) / temperature\n",
    "#                 logits_brain_text = logits_text_brain.T\n",
    "\n",
    "#             # Calculate cross-entropy loss for each pair of modalities\n",
    "#             loss_image_text = nn.functional.cross_entropy(logits_image_text, labels)\n",
    "#             loss_text_image = nn.functional.cross_entropy(logits_text_image, labels)\n",
    "\n",
    "#             if use_brain:\n",
    "#                 loss_image_brain = nn.functional.cross_entropy(logits_image_brain, labels)\n",
    "#                 loss_brain_image = nn.functional.cross_entropy(logits_brain_image, labels)\n",
    "\n",
    "#                 loss_text_brain = nn.functional.cross_entropy(logits_text_brain, labels)\n",
    "#                 loss_brain_text = nn.functional.cross_entropy(logits_brain_text, labels)\n",
    "\n",
    "#             # Calculate the average loss\n",
    "#             if use_brain:\n",
    "#                 loss = (loss_image_text + loss_text_image + loss_image_brain + loss_brain_image + loss_text_brain + loss_brain_text) / 6\n",
    "#             else:\n",
    "#                 loss = (loss_image_text + loss_text_image) / 2\n",
    "\n",
    "#             # gradient clipping (set to 1.0) to improve stability\n",
    "#             nn.utils.clip_grad_norm_(model.parameters(), max_norm=1.0)\n",
    "            \n",
    "            loss1 = crossentropy(clip_image, clip_text)\n",
    "            loss2 = crossentropy(clip_image, clip_brain)\n",
    "            loss3 = crossentropy(clip_text, clip_brain)\n",
    "            # loss = (loss1 + loss2 + loss3) / 3\n",
    "            # loss = (loss1 + loss2) / 2\n",
    "            loss = loss1\n",
    "            \n",
    "            ret1 = utils.topk(utils.batchwise_cosine_similarity(clip_image, clip_text), labels, k=1).item()\n",
    "            ret2 = utils.topk(utils.batchwise_cosine_similarity(clip_text, clip_image), labels, k=1).item()\n",
    "\n",
    "            if use_brain:\n",
    "                ret3 = utils.topk(utils.batchwise_cosine_similarity(clip_image, clip_brain), labels, k=1).item()\n",
    "                ret4 = utils.topk(utils.batchwise_cosine_similarity(clip_brain, clip_image), labels, k=1).item()\n",
    "\n",
    "                ret5 = utils.topk(utils.batchwise_cosine_similarity(clip_text, clip_brain), labels, k=1).item()\n",
    "                ret6 = utils.topk(utils.batchwise_cosine_similarity(clip_brain, clip_text), labels, k=1).item()\n",
    "                \n",
    "            if use_brain:\n",
    "                ret_percent_correct += (ret1 + ret2 + ret3 + ret4 + ret5 + ret6) / 6\n",
    "            else:\n",
    "                ret_percent_correct += (ret1 + ret2) / 2\n",
    "                \n",
    "            img_2_txt_percent_correct += ret1\n",
    "            txt_2_img_percent_correct += ret2\n",
    "\n",
    "            utils.check_loss(loss)\n",
    "            loss.backward()\n",
    "            optimizer.step()\n",
    "\n",
    "            losses.append(loss.item())\n",
    "            lrs.append(optimizer.param_groups[0]['lr'])\n",
    "\n",
    "            lr_scheduler.step()\n",
    "\n",
    "    model.eval()\n",
    "    if local_rank==0:\n",
    "        with torch.no_grad(), torch.cuda.amp.autocast(dtype=data_type): \n",
    "            for test_i, (behav0, past_behav0, future_behav0, old_behav0) in enumerate(test_dl):  \n",
    "                image = images[behav0[:,0,0].cpu().long()].float()\n",
    "                annot = embed_curated_annotations(annots[behav0[:,0,0].cpu().long().numpy()])\n",
    "                annot = clip.tokenize(annot)\n",
    "                voxel = voxels[f'subj0{subj}'][behav0[:,0,5].cpu().long()]\n",
    "                voxel = torch.Tensor(voxel)\n",
    "                voxel = voxel.unsqueeze(1)\n",
    "                \n",
    "                image = image.to(device)\n",
    "                annot = annot.to(device)\n",
    "                voxel = voxel.to(device)\n",
    "                \n",
    "                clip_image = model.image(image)\n",
    "                clip_text = clip_model.encode_text(annot) #model.text(annot)\n",
    "                if use_brain:\n",
    "                    clip_brain = model.ridge(voxel,0)\n",
    "                \n",
    "                labels = torch.arange(len(clip_image)).to(device)\n",
    "\n",
    "                clip_image = nn.functional.normalize(clip_image, dim=-1)\n",
    "                clip_text = nn.functional.normalize(clip_text, dim=-1)\n",
    "                if use_brain:\n",
    "                    clip_brain = nn.functional.normalize(clip_brain, dim=-1)\n",
    "\n",
    "#                 # Calculate logits for each pair of modalities\n",
    "#                 logits_image_text = (clip_image @ clip_text.T) / temperature\n",
    "#                 logits_text_image = logits_image_text.T\n",
    "\n",
    "#                 if use_brain:\n",
    "#                     logits_image_brain = (clip_image @ clip_brain.T) / temperature\n",
    "#                     logits_brain_image = logits_image_brain.T\n",
    "\n",
    "#                     logits_text_brain = (clip_text @ clip_brain.T) / temperature\n",
    "#                     logits_brain_text = logits_text_brain.T\n",
    "\n",
    "#                 # Calculate cross-entropy loss for each pair of modalities\n",
    "#                 loss_image_text = nn.functional.cross_entropy(logits_image_text, labels)\n",
    "#                 loss_text_image = nn.functional.cross_entropy(logits_text_image, labels)\n",
    "\n",
    "#                 if use_brain:\n",
    "#                     loss_image_brain = nn.functional.cross_entropy(logits_image_brain, labels)\n",
    "#                     loss_brain_image = nn.functional.cross_entropy(logits_brain_image, labels)\n",
    "\n",
    "#                     loss_text_brain = nn.functional.cross_entropy(logits_text_brain, labels)\n",
    "#                     loss_brain_text = nn.functional.cross_entropy(logits_brain_text, labels)\n",
    "\n",
    "#                 # Calculate the average loss\n",
    "#                 if use_brain:\n",
    "#                     loss = (loss_image_text + loss_text_image + loss_image_brain + loss_brain_image + loss_text_brain + loss_brain_text) / 6\n",
    "#                 else:\n",
    "#                     loss = (loss_image_text + loss_text_image) / 2\n",
    "\n",
    "                loss1 = crossentropy(clip_image, clip_text)\n",
    "                loss2 = crossentropy(clip_image, clip_brain)\n",
    "                loss3 = crossentropy(clip_text, clip_brain)\n",
    "                # loss = (loss1 + loss2 + loss3) / 3\n",
    "                # loss = (loss1 + loss2) / 2\n",
    "                loss = loss1\n",
    "                \n",
    "                ret1 = utils.topk(utils.batchwise_cosine_similarity(clip_image, clip_text), labels, k=1).item()\n",
    "                ret2 = utils.topk(utils.batchwise_cosine_similarity(clip_text, clip_image), labels, k=1).item()\n",
    "\n",
    "                if use_brain:\n",
    "                    ret3 = utils.topk(utils.batchwise_cosine_similarity(clip_image, clip_brain), labels, k=1).item()\n",
    "                    ret4 = utils.topk(utils.batchwise_cosine_similarity(clip_brain, clip_image), labels, k=1).item()\n",
    "\n",
    "                    ret5 = utils.topk(utils.batchwise_cosine_similarity(clip_text, clip_brain), labels, k=1).item()\n",
    "                    ret6 = utils.topk(utils.batchwise_cosine_similarity(clip_brain, clip_text), labels, k=1).item()\n",
    "\n",
    "                if use_brain:\n",
    "                    test_ret_percent_correct += (ret1 + ret2 + ret3 + ret4 + ret5 + ret6) / 6\n",
    "                else:\n",
    "                    test_ret_percent_correct += (ret1 + ret2) / 2\n",
    "                    \n",
    "                test_img_2_txt_percent_correct += ret1\n",
    "                test_txt_2_img_percent_correct += ret2\n",
    "                \n",
    "                utils.check_loss(loss)                \n",
    "                test_losses.append(loss.item())\n",
    "                \n",
    "                if test_i >= num_test_iterations_per_epoch-1:\n",
    "                    break\n",
    "\n",
    "            logs = {\"train/loss\": np.mean(losses[-(train_i+1):]),\n",
    "                \"test/loss\": np.mean(test_losses[-(test_i+1):]),\n",
    "                \"train/lr\": lrs[-1],\n",
    "                \"train/num_steps\": len(losses),\n",
    "                \"test/num_steps\": len(test_losses),\n",
    "                \"train/ret_pct_correct\": ret_percent_correct / (train_i + 1),\n",
    "                \"test/test_ret_pct_correct\": test_ret_percent_correct / (test_i + 1),\n",
    "                \"train/img_2_txt_percent_correct\": img_2_txt_percent_correct / (train_i + 1),\n",
    "                \"test/img_2_txt_percent_correct\": test_img_2_txt_percent_correct / (test_i + 1),\n",
    "                \"train/txt_2_img_percent_correct\": txt_2_img_percent_correct / (train_i + 1),\n",
    "                \"test/txt_2_img_percent_correct\": test_txt_2_img_percent_correct / (test_i + 1),\n",
    "                }\n",
    "            progress_bar.set_postfix(**logs)\n",
    "            \n",
    "            if wandb_log: wandb.log(logs)\n",
    "            \n",
    "    # Save model checkpoint and reconstruct\n",
    "    if (ckpt_saving) and (epoch % ckpt_interval == 0): save_ckpt(f'last')\n",
    "\n",
    "    # wait for other GPUs to catch up if needed\n",
    "    if distributed: dist.barrier()\n",
    "\n",
    "print(\"\\n===Finished!===\\n\")\n",
    "if ckpt_saving: save_ckpt(f'last')"
   ]
  },
  {
   "cell_type": "code",
   "execution_count": 17,
   "id": "a7e81ae3-171f-40ad-a3e8-24bee4472325",
   "metadata": {
    "tags": []
   },
   "outputs": [
    {
     "data": {
      "image/png": "[encoded data removed]",
      "text/plain": [
       "<Figure size 640x480 with 1 Axes>"
      ]
     },
     "metadata": {},
     "output_type": "display_data"
    },
    {
     "data": {
      "image/png": "[encoded data removed]",
      "text/plain": [
       "<Figure size 640x480 with 1 Axes>"
      ]
     },
     "metadata": {},
     "output_type": "display_data"
    }
   ],
   "source": [
    "# use_brain=True | 10/10 [17:00<00:00, 102.90s/it, test/loss=3.07, test/num_steps=40, test/test_ret_pct_correct=0.187, test/txt_2_img_percent_correct=0.155, train/loss=1.83, train/lr=1.2e-9, train/num_steps=9370, train/ret_pct_correct=0.433, train/txt_2_img_percent_correct=0.295]\n",
    "# use_brain=False | 10/10 [14:41<00:00, 87.83s/it, test/loss=3.39, test/num_steps=40, test/test_ret_pct_correct=0.155, test/txt_2_img_percent_correct=0.16, train/loss=2.33, train/lr=1.2e-9, train/num_steps=9370, train/ret_pct_correct=0.294, train/txt_2_img_percent_correct=0.297]\n",
    "plt.plot(losses)\n",
    "plt.show()\n",
    "plt.plot(test_losses)\n",
    "plt.show()"
   ]
  }
 ],
 "metadata": {
  "kernelspec": {
   "display_name": "mindeye",
   "language": "python",
   "name": "mindeye"
  },
  "language_info": {
   "codemirror_mode": {
    "name": "ipython",
    "version": 3
   },
   "file_extension": ".py",
   "mimetype": "text/x-python",
   "name": "python",
   "nbconvert_exporter": "python",
   "pygments_lexer": "ipython3",
   "version": "3.11.9"
  },
  "toc": {
   "base_numbering": 1,
   "nav_menu": {},
   "number_sections": true,
   "sideBar": true,
   "skip_h1_title": false,
   "title_cell": "Table of Contents",
   "title_sidebar": "Contents",
   "toc_cell": false,
   "toc_position": {
    "height": "calc(100% - 180px)",
    "left": "10px",
    "top": "150px",
    "width": "165px"
   },
   "toc_section_display": true,
   "toc_window_display": true
  },
  "toc-autonumbering": true,
  "vscode": {
   "interpreter": {
    "hash": "62aae01ef0cf7b6af841ab1c8ce59175c4332e693ab3d00bc32ceffb78a35376"
   }
  }
 },
 "nbformat": 4,
 "nbformat_minor": 5
}
